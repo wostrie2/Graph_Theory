{
 "cells": [
  {
   "cell_type": "markdown",
   "id": "18582d03",
   "metadata": {},
   "source": [
    "# Graph Theory\n",
    "### lecture by Don Sheehy: Implementing a Graph Data Structure in Python\n",
    "### https://www.youtube.com/watch?v=uFaZY1dVnGs&list=PLVqjIisMyo_9h78itHVS2hZzkthxFHoT7&index=13"
   ]
  },
  {
   "cell_type": "code",
   "execution_count": 36,
   "id": "c04887e1",
   "metadata": {},
   "outputs": [
    {
     "name": "stdout",
     "output_type": "stream",
     "text": [
      "{frozenset({2, 3}), frozenset({1, 2})}\n",
      "__main__ ran\n"
     ]
    }
   ],
   "source": [
    "class Graph:\n",
    "    def __init__(self, V, E):\n",
    "        self.E = set(frozenset((u,v)) for u,v in E) \n",
    "        # The frozenset type is immutable and hashable — its contents cannot be altered after it is created; it can therefore be used as a dictionary key or as an element of another set.\n",
    "        self._nbrs = {}\n",
    "        for v in V:\n",
    "            self.addvertex(v)\n",
    "        for u,v in self.E:\n",
    "            self.addedge(u,v)\n",
    "            \n",
    "    #to do - fix problem that if you add an existing vertix again, it wipes out the neighbors\n",
    "    def addvertex(self, v):\n",
    "        if v not in self._nbrs:\n",
    "            self._nbrs[v] = set()\n",
    "        \n",
    "    def addedge(self,u,v):\n",
    "        self.addvertex(u)\n",
    "        self.addvertex(v)\n",
    "        self.E.add(frozenset((u,v)))\n",
    "        self._nbrs[u].add(v)\n",
    "        self._nbrs[v].add(u)\n",
    "        \n",
    "            \n",
    "    def deg(self, v):\n",
    "        return len(self._nbrs[v])\n",
    "    \n",
    "    def nbrs(self, v):\n",
    "        return iter(self._nbrs[v])\n",
    "    \n",
    "    # m = number of edges\n",
    "    # @property means we can access this without using parentheses\n",
    "    @property\n",
    "    def m(self):\n",
    "        return len(self.E)\n",
    "    \n",
    "    # n = number of vertices\n",
    "    @property\n",
    "    def n(self):\n",
    "        return len(self._nbrs)\n",
    "    \n",
    "    def removeedge(self, u, v):\n",
    "        e = frozenset((u,v))\n",
    "        if e in self.E:\n",
    "            self.E.remove(e)\n",
    "            self._nbrs[u].remove(v)\n",
    "            self._nbrs[v].remove(u)\n",
    "            \n",
    "    def removevertex(self, u):\n",
    "        todelete = list(self.nbrs(u))\n",
    "        for v in todelete:\n",
    "            self.removeedge(u,v)\n",
    "        del self._nbrs[u]\n",
    "    \n",
    "\n",
    "    \n",
    "if __name__ == \"__main__\":\n",
    "    G = Graph({1,2,3}, {(1,2), (2,3)})\n",
    "    #print(G.deg(3))\n",
    "    assert(G.deg(1) == 1)\n",
    "    assert(G.deg(2) == 2)\n",
    "    assert(G.deg(3) == 1)\n",
    "    \n",
    "    assert(set(G.nbrs(2)) == {1, 3})\n",
    "    \n",
    "    assert(G.n == 3)\n",
    "    assert(G.m == 2)\n",
    "    \n",
    "    G.removeedge(1,2)\n",
    "    assert(G.n == 3 and G.m == 1)\n",
    "    \n",
    "    G.removeedge(1,3)\n",
    "    assert(G.n == 3 and G.m == 1)\n",
    "    \n",
    "    G.addedge(1,2)\n",
    "    print(set(G.E))\n",
    "    assert(G.n == 3 and G.m == 2)\n",
    "    \n",
    "    G.removevertex(2)\n",
    "    assert(G.n == 2 and G.m == 0)\n",
    "    \n",
    "    \n",
    "    \n",
    "    print(\"__main__ ran\")"
   ]
  },
  {
   "cell_type": "code",
   "execution_count": null,
   "id": "57457eca",
   "metadata": {},
   "outputs": [],
   "source": []
  }
 ],
 "metadata": {
  "kernelspec": {
   "display_name": "Python 3 (ipykernel)",
   "language": "python",
   "name": "python3"
  },
  "language_info": {
   "codemirror_mode": {
    "name": "ipython",
    "version": 3
   },
   "file_extension": ".py",
   "mimetype": "text/x-python",
   "name": "python",
   "nbconvert_exporter": "python",
   "pygments_lexer": "ipython3",
   "version": "3.9.7"
  }
 },
 "nbformat": 4,
 "nbformat_minor": 5
}
