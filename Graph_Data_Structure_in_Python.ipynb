{
 "cells": [
  {
   "cell_type": "markdown",
   "id": "3c105c7c",
   "metadata": {},
   "source": [
    "# Graph Theory\n",
    "### lecture by Don Sheahy: Implementing a Graph Data Structure in Python\n",
    "### https://www.youtube.com/watch?v=uFaZY1dVnGs&list=PLVqjIisMyo_9h78itHVS2hZzkthxFHoT7&index=13"
   ]
  },
  {
   "cell_type": "code",
   "execution_count": 25,
   "id": "937bda46",
   "metadata": {},
   "outputs": [
    {
     "name": "stdout",
     "output_type": "stream",
     "text": [
      "__main__ ran\n"
     ]
    }
   ],
   "source": [
    "class Graph:\n",
    "    def __init__(self, V, E):\n",
    "        self.E = set(frozenset((u,v)) for u,v in E) \n",
    "        # The frozenset type is immutable and hashable — its contents cannot be altered after it is created; it can therefore be used as a dictionary key or as an element of another set.\n",
    "        self._nbrs = {}\n",
    "        for v in V:\n",
    "            self.addvertex(v)\n",
    "        for u,v in self.E:\n",
    "            self.addedge(u,v)\n",
    "            \n",
    "    #to do - fix problem that if you add an existing vertix again, it wipes out the neighbors\n",
    "    def addvertex(self, v):\n",
    "        if v not in self._nbrs:\n",
    "            self._nbrs[v] = set()\n",
    "        \n",
    "    def addedge(self,u,v):\n",
    "        self.addvertex(u)\n",
    "        self.addvertex(v)\n",
    "        self._nbrs[u].add(v)\n",
    "        self._nbrs[v].add(u)\n",
    "            \n",
    "    def deg(self, v):\n",
    "        return len(self._nbrs[v])\n",
    "    \n",
    "    def nbrs(self, v):\n",
    "        return iter(self._nbrs[v])\n",
    "    \n",
    "    # m = number of edges\n",
    "    # @property means we can access this without using parentheses\n",
    "    @property\n",
    "    def m(self):\n",
    "        return len(self.E)\n",
    "    \n",
    "    # n = number of vertices\n",
    "    @property\n",
    "    def n(self):\n",
    "        return len(self._nbrs)\n",
    "    \n",
    "    def removeedge(self, u, v):\n",
    "        self.E.remove(frozenset((u,v)))\n",
    "        self._nbrs[u].remove(v)\n",
    "        self._nbrs[v].remove(u)\n",
    "    \n",
    "\n",
    "    \n",
    "if __name__ == \"__main__\":\n",
    "    G = Graph({1,2,3}, {(1,2), (2,3)})\n",
    "    #print(G.deg(3))\n",
    "    assert(G.deg(1) == 1)\n",
    "    assert(G.deg(2) == 2)\n",
    "    assert(G.deg(3) == 1)\n",
    "    \n",
    "    assert(set(G.nbrs(2)) == {1, 3})\n",
    "    \n",
    "    assert(G.n == 3)\n",
    "    assert(G.m == 2)\n",
    "    \n",
    "    G.removeedge(1,2)\n",
    "    assert(G.n == 3 and G.m == 1)\n",
    "    \n",
    "    print(\"__main__ ran\")"
   ]
  },
  {
   "cell_type": "code",
   "execution_count": null,
   "id": "766501b3",
   "metadata": {},
   "outputs": [],
   "source": []
  }
 ],
 "metadata": {
  "kernelspec": {
   "display_name": "Python 3 (ipykernel)",
   "language": "python",
   "name": "python3"
  },
  "language_info": {
   "codemirror_mode": {
    "name": "ipython",
    "version": 3
   },
   "file_extension": ".py",
   "mimetype": "text/x-python",
   "name": "python",
   "nbconvert_exporter": "python",
   "pygments_lexer": "ipython3",
   "version": "3.9.7"
  }
 },
 "nbformat": 4,
 "nbformat_minor": 5
}
